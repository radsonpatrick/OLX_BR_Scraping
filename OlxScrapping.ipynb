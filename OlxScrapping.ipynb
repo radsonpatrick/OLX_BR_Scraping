{
 "cells": [
  {
   "cell_type": "markdown",
   "id": "f55f598f-8b70-4d62-a76f-eab0e82ca61e",
   "metadata": {
    "tags": []
   },
   "source": [
    "***\n",
    "## Imports"
   ]
  },
  {
   "cell_type": "code",
   "execution_count": null,
   "id": "b1917ff6-1995-41bc-8438-0b2624695538",
   "metadata": {},
   "outputs": [],
   "source": [
    "from openpyxl import Workbook, load_workbook\n",
    "from openpyxl.utils import get_column_letter\n",
    "from bs4 import BeautifulSoup              \n",
    "from selenium import webdriver\n",
    "from selenium.webdriver.firefox.options import Options\n",
    "from selenium.webdriver.common.by import By\n",
    "from openpyxl.styles import PatternFill, Font\n",
    "import pandas as pd\n",
    "from time import sleep\n",
    "from datetime import date,datetime"
   ]
  },
  {
   "cell_type": "markdown",
   "id": "65b4965c-aa5a-4889-8b66-f8141902e659",
   "metadata": {
    "tags": []
   },
   "source": [
    "***\n",
    "## Parametros "
   ]
  },
  {
   "cell_type": "code",
   "execution_count": null,
   "id": "d15925b5-6c8e-4d84-90be-4926f7016cbd",
   "metadata": {},
   "outputs": [],
   "source": [
    "cor_terminal = \"\\033[0;32m\" \n",
    "url = \"https://www.olx.com.br/brasil?sf=1\"\n",
    "option = Options()\n",
    "option.headless = False\n",
    "driver = webdriver.Firefox(options=option)\n",
    "driver.get(url)"
   ]
  },
  {
   "cell_type": "markdown",
   "id": "d9d6242b-4162-492f-8ef3-375afda78e42",
   "metadata": {
    "tags": []
   },
   "source": [
    "***\n",
    "## Buscar e Selecionar Estado"
   ]
  },
  {
   "cell_type": "code",
   "execution_count": null,
   "id": "8d0d676c-c84d-468c-b579-423b0ad15aae",
   "metadata": {},
   "outputs": [],
   "source": [
    "#       def seleciona_estado(self):\n",
    "div_estado =  BeautifulSoup(driver.find_element(\n",
    "                                            By.XPATH,\"/html/body/div[1]/div[2]/div[2]/div/div[2]/div[2]/div/div[8]/div/div/div/div[2]/div\"\n",
    "\n",
    "                                            ).get_attribute('outerHTML'),'html.parser')\n",
    "estado = div_estado.find_all('a',class_='sc-1l6qrj6-0 dWpHHA sc-jAaTju dlGmlk')\n",
    "nome_estado ={}\n",
    "link_estado ={}\n",
    "nome_estado[0] ='TODOS'\n",
    "link_estado[0] = url\n",
    "print('0 - TODOS')\n",
    "for i in range(1,len(estado)+1):\n",
    "    nome_estado[i] = estado[i-1].get_text()\n",
    "    link_estado[i] = estado[i-1]['href']\n",
    "    print(f'{i} - {nome_estado[i]}')\n",
    "\n",
    "estado_select = input('Selecione Categoria: ')\n",
    "print(f'Voçe escolheu : {cor_terminal}{nome_estado[int(estado_select)]}')\n",
    "url_final = link_estado[int(estado_select)] \n",
    "driver.get(url_final)"
   ]
  },
  {
   "cell_type": "markdown",
   "id": "eb05ed25-6880-45a4-a05d-89cedaa3ffbc",
   "metadata": {
    "tags": []
   },
   "source": [
    "***\n",
    "## Buscar e Selecionar Região"
   ]
  },
  {
   "cell_type": "code",
   "execution_count": null,
   "id": "3d0196f1-0d67-4a75-a723-fc0843e301b6",
   "metadata": {
    "tags": []
   },
   "outputs": [],
   "source": [
    "#       def seleciona_regiao(self):\n",
    "div_regiao =  BeautifulSoup(driver.find_element(\n",
    "                                            By.XPATH,'/html/body/div[2]/div[2]/div[2]/div/div[2]/div[2]/div/div[8]/div/div/div/div[2]/div/div'\n",
    "                                           ).get_attribute('outerHTML'),'html.parser')\n",
    "regiao = div_regiao.find_all('a', class_ = 'sc-1l6qrj6-0 dWpHHA sc-jAaTju dlGmlk')\n",
    "nome_regiao ={}\n",
    "link_regiao ={}\n",
    "nome_regiao[0] ='TODOS'\n",
    "link_regiao[0] = url_final\n",
    "print('0 - TODOS')\n",
    "for i in range(1,len(regiao)+1):\n",
    "    nome_regiao[i] = regiao[i-1].get_text()\n",
    "    link_regiao[i] = regiao[i-1]['href']\n",
    "    print(f'{i} - {nome_regiao[i]}')\n",
    "\n",
    "regiao_select = input('Selecione Categoria: ')\n",
    "print(f'Voçe escolheu : {cor_terminal}{nome_regiao[int(regiao_select)]}')\n",
    "url_final = link_regiao[int(regiao_select)] \n",
    "driver.get(url_final)"
   ]
  },
  {
   "cell_type": "markdown",
   "id": "12b8294d-1fa0-4820-b244-edd4536f7445",
   "metadata": {
    "tags": []
   },
   "source": [
    "***\n",
    "## Buscar e Selecionar Categorias "
   ]
  },
  {
   "cell_type": "code",
   "execution_count": null,
   "id": "a84cedfe-67ad-4bbe-bfc3-6de8ac9d7ba5",
   "metadata": {},
   "outputs": [],
   "source": [
    "#       def seleciona_categoria(self):\n",
    "\n",
    "div_categorias =  BeautifulSoup(driver.find_element(By.XPATH,'/html/body/div[2]/div[2]/div[2]/div/div[2]/div[1]/div/div[2]/div/div/div/div/div/div[2]/div/div/div[1]').get_attribute('outerHTML'),'html.parser')\n",
    "categoria = div_categorias.find_all('a',class_='c2pjhb-3 fDMIfb sc-jAaTju bzVpON')\n",
    "nome_categoria ={}\n",
    "link_categoria ={}\n",
    "nome_categoria[0] ='TODAS'\n",
    "link_categoria[0] = url_final\n",
    "print('0 - TODAS')\n",
    "for i in range(1,len(categoria)):\n",
    "    nome_categoria[i] = categoria[i]['title']\n",
    "    link_categoria[i] = categoria[i]['href']\n",
    "    print(f'{i} - {nome_categoria[i]}')\n",
    "\n",
    "categoria_select = input('Selecione Categoria: ')\n",
    "print(f'Voçe escolheu : {cor_terminal}{nome_categoria[int(categoria_select)]}')\n",
    "url_final = link_categoria[int(categoria_select)]\n",
    "driver.get(url_final)"
   ]
  },
  {
   "cell_type": "markdown",
   "id": "3f920d3e-0345-4a1f-a134-3dfb7418c50c",
   "metadata": {
    "tags": []
   },
   "source": [
    "***\n",
    "## Buscar e Selecionar SUB-Categorias "
   ]
  },
  {
   "cell_type": "code",
   "execution_count": null,
   "id": "117b1b6d-04ea-451f-bdf5-8c985adefffa",
   "metadata": {},
   "outputs": [],
   "source": [
    "#       def seleciona_sub_categoria(self):\n",
    "\n",
    "div_sub_categorias =  BeautifulSoup(driver.find_element(By.XPATH,'/html/body/div[2]/div[2]/div[2]/div/div[2]/div[1]/div/div[2]/div/div/div/div/div/div[2]/div/div/div[1]/div').get_attribute('outerHTML'),'html.parser')\n",
    "sub_categoria = div_sub_categorias.find_all('a',class_='sc-1f7wkjc-2 iBlkWc sc-jAaTju bzVpON')\n",
    "nome_sub_categoria ={}\n",
    "link_sub_categoria ={}\n",
    "nome_sub_categoria[0] = 'TODAS'\n",
    "link_sub_categoria[0] = url_final\n",
    "print('0 - TODAS')\n",
    "for i in range(1,len(sub_categoria)+1):\n",
    "    nome_sub_categoria[i] = sub_categoria[i-1]['title']\n",
    "    link_sub_categoria[i] = sub_categoria[i-1]['href']\n",
    "    print(f'{i} - {nome_sub_categoria[i]}')\n",
    "\n",
    "sub_categoria_select = input('Selecione  a Sub-Categoria: ')\n",
    "print(f'Voçe escolheu : {cor_terminal}{nome_sub_categoria[int(sub_categoria_select)]}')\n",
    "url_final = (link_sub_categoria[int(sub_categoria_select)])\n",
    "driver.get(url_final)"
   ]
  },
  {
   "cell_type": "markdown",
   "id": "d8388606-8ddf-438a-a086-e5ff03b93513",
   "metadata": {
    "tags": []
   },
   "source": [
    "***\n",
    "## Seleciona Tipo Anuncio"
   ]
  },
  {
   "cell_type": "code",
   "execution_count": null,
   "id": "7a06a5fc-7e39-4800-9c26-d4c0cb334dad",
   "metadata": {},
   "outputs": [],
   "source": [
    "#       def tipo_anuncio(self):\n",
    "\n",
    "print('0-Todos \\n1-Particular \\n2-Profissional')\n",
    "tipo_anuncio = input('qual tipo de ANUNCIO ?')\n",
    "if  tipo_anuncio == '0':\n",
    "    anuncio = ''\n",
    "elif tipo_anuncio == '1' :\n",
    "    anuncio = '&f=p'\n",
    "elif tipo_anuncio == '2' :\n",
    "    anuncio = '&f=c'\n",
    "\n",
    "url_final =url_final+anuncio\n",
    "driver.get(url_final)\n",
    "print(f'voce selecionou {cor_terminal}{tipo_anuncio}')"
   ]
  },
  {
   "cell_type": "markdown",
   "id": "75a3201d-2819-41f3-b9ec-4d98be9fb244",
   "metadata": {
    "tags": []
   },
   "source": [
    "***\n",
    "## Inserir Palavra Chave"
   ]
  },
  {
   "cell_type": "code",
   "execution_count": null,
   "id": "32136fec-9460-4198-be6c-56d1d21c63c3",
   "metadata": {},
   "outputs": [],
   "source": [
    "#       def palavra_chave(self):\n",
    "chave =  input('Voce deseja inserir palavra chave?(s/n)')\n",
    "palavra_chave =''\n",
    "url_final = url_final + palavra_chave\n",
    "if chave == 's':\n",
    "    palavra_chave = '&q='+ input('Qual Palavra Chave?')\n",
    "    url_final = url_final + palavra_chave\n",
    "print(url_final)"
   ]
  },
  {
   "cell_type": "markdown",
   "id": "c84073e2-8e60-4578-8f6c-a93db43a289f",
   "metadata": {
    "tags": []
   },
   "source": [
    "***\n",
    "## Criação dos DF"
   ]
  },
  {
   "cell_type": "code",
   "execution_count": null,
   "id": "31f10c69-a6e4-4085-975a-2c27f7cd64e3",
   "metadata": {},
   "outputs": [],
   "source": [
    "#       def cricacao_tabela(self):\n",
    "dfProdutos = pd.DataFrame(columns = ['NOME_PRODUTO','PRECO','LINK_PRODUTO','DATA_POSTAGEM','CHECK'])  #criação do Data Frame\n",
    "dfTemp = pd.DataFrame(columns = ['NOME_PRODUTO','PRECO','LINK_PRODUTO','DATA_POSTAGEM'])  #criação do Data Frame"
   ]
  },
  {
   "cell_type": "markdown",
   "id": "ad697270-3cf3-4ab5-ab27-13f10e7990dc",
   "metadata": {
    "tags": []
   },
   "source": [
    "***\n",
    "## Varrendo o Site com os parametros "
   ]
  },
  {
   "cell_type": "code",
   "execution_count": null,
   "id": "718e20c9-0e27-4b89-a5f0-1bb5b1f034d2",
   "metadata": {
    "tags": []
   },
   "outputs": [],
   "source": [
    "#       def varredura_site(self):\n",
    "for numero_pagina in range(5,0,-1):\n",
    "    print(f'Iniciando Pagina {numero_pagina}')\n",
    "    pagina = f'&o={numero_pagina}'\n",
    "\n",
    "    driver.get(url_final + pagina ) \n",
    "\n",
    "    div_produtos =  BeautifulSoup(driver.find_element(By.XPATH,'//*[@id=\"ad-list\"]').get_attribute('outerHTML'),'html.parser')\n",
    "    \n",
    "    qtd_produtos = div_produtos.find_all('a', class_ = 'fnmrjs-0 fyjObc')\n",
    "    valor_produto = div_produtos.find_all('div',class_ ='aoie8y-0 hRScWw')\n",
    "    link_produto =  div_produtos.find_all('a',class_ = 'fnmrjs-0 fyjObc')\n",
    "    #foto_produto =  div_produtos.find_all('img',class_ = 'sc-101cdir-0 cldTqT')\n",
    "    data_publicacao = div_produtos.find_all('div',class_ = 'fnmrjs-10 gHqbSa')\n",
    "    titulo_produto ={}\n",
    "\n",
    "    for i in range(0,len(qtd_produtos)):\n",
    "        valor_produto[i] = valor_produto[i].get_text()\n",
    "        titulo_produto[i] = qtd_produtos[i]['title']\n",
    "        link_produto[i] = link_produto[i].get('href')\n",
    "      #  foto_produto[i] = foto_produto[i]['src']\n",
    "        data_publicacao[i] = data_publicacao[i].get_text(\" \")\n",
    "        dfTemp.loc[i] =[titulo_produto[i],valor_produto[i],link_produto[i],data_publicacao[i]]\n",
    "\n",
    "    dfProdutos =  pd.merge(dfTemp,dfProdutos,on = ('NOME_PRODUTO','PRECO','LINK_PRODUTO','DATA_POSTAGEM'),how='outer')\n",
    "\n",
    "    dfProdutos['CHECK'] = dfProdutos['CHECK'].str.replace('new','old',regex = False)\n",
    "    dfProdutos['CHECK'] = dfProdutos['CHECK'].fillna('new')\n",
    "print(f'{cor_terminal}Varredura Finalizada')\n",
    "print(f'Quantidade de Anuncios encontrados = {len(dfProdutos)}')\n"
   ]
  },
  {
   "cell_type": "markdown",
   "id": "1fe085fc-fb66-4e70-b128-f380632ab204",
   "metadata": {
    "tags": []
   },
   "source": [
    "***\n",
    "## Mostrando Produtos novos"
   ]
  },
  {
   "cell_type": "code",
   "execution_count": null,
   "id": "7d175fc2-79ae-4710-a24d-83d63d8bbb52",
   "metadata": {},
   "outputs": [],
   "source": [
    "#       def novos_anuncios(self):\n",
    "news = dfProdutos.where(dfProdutos['CHECK'] == 'new').dropna()\n",
    "print(f'Novos Anuncios : {len(news)}')\n",
    "\n",
    "news"
   ]
  }
 ],
 "metadata": {
  "kernelspec": {
   "display_name": "Python 3 (ipykernel)",
   "language": "python",
   "name": "python3"
  },
  "language_info": {
   "codemirror_mode": {
    "name": "ipython",
    "version": 3
   },
   "file_extension": ".py",
   "mimetype": "text/x-python",
   "name": "python",
   "nbconvert_exporter": "python",
   "pygments_lexer": "ipython3",
   "version": "3.9.7"
  }
 },
 "nbformat": 4,
 "nbformat_minor": 5
}
